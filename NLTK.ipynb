{
 "cells": [
  {
   "cell_type": "code",
   "execution_count": 2,
   "metadata": {},
   "outputs": [
    {
     "name": "stdout",
     "output_type": "stream",
     "text": [
      "*** Introductory Examples for the NLTK Book ***\n",
      "Loading text1, ..., text9 and sent1, ..., sent9\n",
      "Type the name of the text or sentence to view it.\n",
      "Type: 'texts()' or 'sents()' to list the materials.\n",
      "text1: Moby Dick by Herman Melville 1851\n",
      "text2: Sense and Sensibility by Jane Austen 1811\n",
      "text3: The Book of Genesis\n",
      "text4: Inaugural Address Corpus\n",
      "text5: Chat Corpus\n",
      "text6: Monty Python and the Holy Grail\n",
      "text7: Wall Street Journal\n",
      "text8: Personals Corpus\n",
      "text9: The Man Who Was Thursday by G . K . Chesterton 1908\n"
     ]
    }
   ],
   "source": [
    "\n",
    "import nltk\n",
    "from nltk.book import *\n"
   ]
  },
  {
   "cell_type": "code",
   "execution_count": 3,
   "metadata": {},
   "outputs": [
    {
     "data": {
      "text/plain": [
       "<Text: The Man Who Was Thursday by G . K . Chesterton 1908>"
      ]
     },
     "execution_count": 3,
     "metadata": {},
     "output_type": "execute_result"
    }
   ],
   "source": [
    "text9\n"
   ]
  },
  {
   "cell_type": "code",
   "execution_count": 7,
   "metadata": {},
   "outputs": [
    {
     "data": {
      "text/plain": [
       "<Text: The Man Who Was Thursday by G . K . Chesterton 1908>"
      ]
     },
     "execution_count": 7,
     "metadata": {},
     "output_type": "execute_result"
    }
   ],
   "source": [
    "text9"
   ]
  },
  {
   "cell_type": "code",
   "execution_count": 8,
   "metadata": {},
   "outputs": [
    {
     "name": "stdout",
     "output_type": "stream",
     "text": [
      "Displaying 25 of 38 matches:\n",
      "ay when they were created . And Adam lived an hundred and thirty years , and be\n",
      "ughters : And all the days that Adam lived were nine hundred and thirty yea and\n",
      "nd thirty yea and he died . And Seth lived an hundred and five years , and bega\n",
      "ve years , and begat Enos : And Seth lived after he begat Enos eight hundred an\n",
      "welve years : and he died . And Enos lived ninety years , and begat Cainan : An\n",
      " years , and begat Cainan : And Enos lived after he begat Cainan eight hundred \n",
      "ive years : and he died . And Cainan lived seventy years and begat Mahalaleel :\n",
      "rs and begat Mahalaleel : And Cainan lived after he begat Mahalaleel eight hund\n",
      "years : and he died . And Mahalaleel lived sixty and five years , and begat Jar\n",
      "s , and begat Jared : And Mahalaleel lived after he begat Jared eight hundred a\n",
      "and five yea and he died . And Jared lived an hundred sixty and two years , and\n",
      "o years , and he begat Eno And Jared lived after he begat Enoch eight hundred y\n",
      " and two yea and he died . And Enoch lived sixty and five years , and begat Met\n",
      " ; for God took him . And Methuselah lived an hundred eighty and seven years , \n",
      " , and begat Lamech . And Methuselah lived after he begat Lamech seven hundred \n",
      "nd nine yea and he died . And Lamech lived an hundred eighty and two years , an\n",
      "ch the LORD hath cursed . And Lamech lived after he begat Noah five hundred nin\n",
      "naan shall be his servant . And Noah lived after the flood three hundred and fi\n",
      "xad two years after the flo And Shem lived after he begat Arphaxad five hundred\n",
      "at sons and daughters . And Arphaxad lived five and thirty years , and begat Sa\n",
      "ars , and begat Salah : And Arphaxad lived after he begat Salah four hundred an\n",
      "begat sons and daughters . And Salah lived thirty years , and begat Eber : And \n",
      "y years , and begat Eber : And Salah lived after he begat Eber four hundred and\n",
      " begat sons and daughters . And Eber lived four and thirty years , and begat Pe\n",
      "y years , and begat Peleg : And Eber lived after he begat Peleg four hundred an\n"
     ]
    }
   ],
   "source": [
    "text3.concordance(\"lived\")"
   ]
  },
  {
   "cell_type": "code",
   "execution_count": 10,
   "metadata": {},
   "outputs": [
    {
     "name": "stdout",
     "output_type": "stream",
     "text": [
      "Displaying 5 of 5 matches:\n",
      "ss unto day . But we were young ; we lived to see God break their bitter charms\n",
      "We are the most modest men that ever lived on earth .\" \" And who are we ?\" aske\n",
      "empt at secrecy . I have an aunt who lived over a shop , but this is the first \n",
      "tables , or of the old eccentric who lived in the dark room . But he did feel h\n",
      " \" You never hated because you never lived . I know what you are all of you , f\n"
     ]
    }
   ],
   "source": [
    "text9.concordance(\"lived\")"
   ]
  },
  {
   "cell_type": "code",
   "execution_count": 11,
   "metadata": {},
   "outputs": [
    {
     "name": "stdout",
     "output_type": "stream",
     "text": [
      "went took dwelt builded\n"
     ]
    }
   ],
   "source": [
    "text3.similar(\"lived\",\"have\", are end going go mean mad wish ought sits\n",
    ")"
   ]
  },
  {
   "cell_type": "code",
   "execution_count": null,
   "metadata": {},
   "outputs": [],
   "source": []
  },
  {
   "cell_type": "code",
   "execution_count": 12,
   "metadata": {},
   "outputs": [
    {
     "name": "stdout",
     "output_type": "stream",
     "text": [
      "have are end going go mean mad wish ought sits\n"
     ]
    }
   ],
   "source": [
    "text9.similar('lived')"
   ]
  },
  {
   "cell_type": "code",
   "execution_count": 32,
   "metadata": {},
   "outputs": [
    {
     "name": "stdout",
     "output_type": "stream",
     "text": [
      "we_to ever_on who_over who_in never_i\n"
     ]
    }
   ],
   "source": [
    " text9.common_contexts([\"lived\",\"lived\"])"
   ]
  },
  {
   "cell_type": "code",
   "execution_count": 36,
   "metadata": {},
   "outputs": [
    {
     "data": {
      "image/png": "[encoded data removed]",
      "text/plain": [
       "<matplotlib.figure.Figure at 0x11e2291d0>"
      ]
     },
     "metadata": {},
     "output_type": "display_data"
    }
   ],
   "source": [
    "text4.dispersion_plot([\"citizens\",\"democracy\",\"freedom\",\"duties\",\"America\"])"
   ]
  },
  {
   "cell_type": "code",
   "execution_count": 53,
   "metadata": {},
   "outputs": [
    {
     "ename": "TypeError",
     "evalue": "generate() missing 1 required positional argument: 'words'",
     "output_type": "error",
     "traceback": [
      "\u001b[0;31m---------------------------------------------------------------------------\u001b[0m",
      "\u001b[0;31mTypeError\u001b[0m                                 Traceback (most recent call last)",
      "\u001b[0;32m<ipython-input-53-463eb7c367ab>\u001b[0m in \u001b[0;36m<module>\u001b[0;34m()\u001b[0m\n\u001b[0;32m----> 1\u001b[0;31m \u001b[0mtext3\u001b[0m\u001b[0;34m.\u001b[0m\u001b[0mgenerate\u001b[0m\u001b[0;34m(\u001b[0m\u001b[0;34m)\u001b[0m\u001b[0;34m\u001b[0m\u001b[0m\n\u001b[0m",
      "\u001b[0;31mTypeError\u001b[0m: generate() missing 1 required positional argument: 'words'"
     ]
    }
   ],
   "source": [
    "text3.generate()"
   ]
  },
  {
   "cell_type": "code",
   "execution_count": 58,
   "metadata": {},
   "outputs": [
    {
     "data": {
      "text/plain": [
       "69213"
      ]
     },
     "execution_count": 58,
     "metadata": {},
     "output_type": "execute_result"
    }
   ],
   "source": [
    "len(text9)"
   ]
  },
  {
   "cell_type": "code",
   "execution_count": 55,
   "metadata": {},
   "outputs": [
    {
     "data": {
      "text/plain": [
       "['!',\n",
       " '!\"',\n",
       " \"!'\",\n",
       " '!--',\n",
       " '\"',\n",
       " '\"\\'',\n",
       " '\"--',\n",
       " '\";',\n",
       " \"'\",\n",
       " \"'--\",\n",
       " \"'.\",\n",
       " '\\'.\"',\n",
       " \"';\",\n",
       " \"'?\",\n",
       " '\\'?\"',\n",
       " '(',\n",
       " ')',\n",
       " '),',\n",
       " ').',\n",
       " ').\"',\n",
       " '*',\n",
       " ',',\n",
       " ',\"',\n",
       " \",'\",\n",
       " ',\\'\"',\n",
       " '-',\n",
       " '--',\n",
       " '--\"',\n",
       " \"--'\",\n",
       " '.',\n",
       " '.\"',\n",
       " '.\"\\'',\n",
       " \".'\",\n",
       " '.\\'\"',\n",
       " '.--',\n",
       " '1350',\n",
       " '1908',\n",
       " '217',\n",
       " '45',\n",
       " '7',\n",
       " ':',\n",
       " ':--',\n",
       " ';',\n",
       " '?',\n",
       " '?\"',\n",
       " \"?'\",\n",
       " '?)',\n",
       " 'A',\n",
       " 'ACCUSER',\n",
       " 'ACROSS',\n",
       " 'ANARCHY',\n",
       " 'AS',\n",
       " 'AT',\n",
       " 'About',\n",
       " 'Above',\n",
       " 'Absurd',\n",
       " 'Accepting',\n",
       " 'Acheron',\n",
       " 'Across',\n",
       " 'Acting',\n",
       " 'Adam',\n",
       " 'Admiral',\n",
       " 'Aesop',\n",
       " 'African',\n",
       " 'After',\n",
       " 'Afterwards',\n",
       " 'Again',\n",
       " 'Against',\n",
       " 'Ages',\n",
       " 'Ah',\n",
       " 'Albany',\n",
       " 'Albert',\n",
       " 'Alhambra',\n",
       " 'Alice',\n",
       " 'All',\n",
       " 'Ally',\n",
       " 'Almighty',\n",
       " 'Almost',\n",
       " 'Along',\n",
       " 'Alpine',\n",
       " 'Also',\n",
       " 'Am',\n",
       " 'America',\n",
       " 'American',\n",
       " 'An',\n",
       " 'Anarch',\n",
       " 'Anarchist',\n",
       " 'Anarchists',\n",
       " 'Anarchy',\n",
       " 'And',\n",
       " 'Anne',\n",
       " 'Another',\n",
       " 'Answer',\n",
       " 'Anyhow',\n",
       " 'Archdeacon',\n",
       " 'Are',\n",
       " 'Argus',\n",
       " 'Aristocrats',\n",
       " 'Armageddon',\n",
       " 'As',\n",
       " 'Asiatic',\n",
       " 'Asked',\n",
       " 'Assyrian',\n",
       " 'At',\n",
       " 'Attila',\n",
       " 'B',\n",
       " 'BEFORE',\n",
       " 'BURGUNDY',\n",
       " 'Baal',\n",
       " 'Babel',\n",
       " 'Bad',\n",
       " 'Bagdad',\n",
       " 'Baker',\n",
       " 'Bank',\n",
       " 'Bannockburn',\n",
       " 'Barnum',\n",
       " 'Baron',\n",
       " 'Battersea',\n",
       " 'Battle',\n",
       " 'Be',\n",
       " 'Because',\n",
       " 'Before',\n",
       " 'Beg',\n",
       " 'Being',\n",
       " 'Bellegarde',\n",
       " 'Bentley',\n",
       " 'Besides',\n",
       " 'Better',\n",
       " 'Between',\n",
       " 'Beyond',\n",
       " 'Bible',\n",
       " 'Bibles',\n",
       " 'Biffin',\n",
       " 'Bigamists',\n",
       " 'Blessed',\n",
       " 'Blood',\n",
       " 'Bloody',\n",
       " 'Board',\n",
       " 'Bogy',\n",
       " 'Bohemian',\n",
       " 'Both',\n",
       " 'Bounder',\n",
       " 'Bradshaw',\n",
       " 'Breakfast',\n",
       " 'Brighton',\n",
       " 'British',\n",
       " 'Brother',\n",
       " 'Bruce',\n",
       " 'Buck',\n",
       " 'Buddhism',\n",
       " 'Buddhist',\n",
       " 'Buildings',\n",
       " 'Bull',\n",
       " 'Bulwer',\n",
       " 'Burgundy',\n",
       " 'Burnt',\n",
       " 'But',\n",
       " 'Buttons',\n",
       " 'By',\n",
       " 'Byron',\n",
       " 'C',\n",
       " 'CHAPTER',\n",
       " 'CHASE',\n",
       " 'CONDUCT',\n",
       " 'CRIMINALS',\n",
       " 'Caesar',\n",
       " 'Calais',\n",
       " 'Call',\n",
       " 'Can',\n",
       " 'Candidates',\n",
       " 'Cannot',\n",
       " 'Capital',\n",
       " 'Captain',\n",
       " 'Carnation',\n",
       " 'Catacombs',\n",
       " 'Catch',\n",
       " 'Cathedral',\n",
       " 'Catholic',\n",
       " 'Catholics',\n",
       " 'Central',\n",
       " 'Certainly',\n",
       " 'Chairman',\n",
       " 'Chamberlain',\n",
       " 'Chamberlains',\n",
       " 'Channel',\n",
       " 'Chaos',\n",
       " 'Charing',\n",
       " 'Cheapside',\n",
       " 'Chesterton',\n",
       " 'Children',\n",
       " 'Chinaman',\n",
       " 'Chinese',\n",
       " 'Chiswick',\n",
       " 'Chretiens',\n",
       " 'Christendom',\n",
       " 'Christian',\n",
       " 'Christians',\n",
       " 'Christmas',\n",
       " 'Church',\n",
       " 'Circus',\n",
       " 'City',\n",
       " 'Clapham',\n",
       " 'Clapping',\n",
       " 'Clashing',\n",
       " 'Clean',\n",
       " 'Clerihew',\n",
       " 'Clever',\n",
       " 'Close',\n",
       " 'Clothes',\n",
       " 'Cluny',\n",
       " 'Cockney',\n",
       " 'Cold',\n",
       " 'Colney',\n",
       " 'Colonel',\n",
       " 'Colt',\n",
       " 'Come',\n",
       " 'Common',\n",
       " 'Compared',\n",
       " 'Comrade',\n",
       " 'Comrades',\n",
       " 'Concealment',\n",
       " 'Confound',\n",
       " 'Consequently',\n",
       " 'Constitution',\n",
       " 'Corps',\n",
       " 'Could',\n",
       " 'Council',\n",
       " 'Couples',\n",
       " 'Court',\n",
       " 'Covent',\n",
       " 'Creation',\n",
       " 'Cross',\n",
       " 'Crown',\n",
       " 'Cruelty',\n",
       " 'Crusade',\n",
       " 'Cups',\n",
       " 'Czar',\n",
       " 'D',\n",
       " 'DE',\n",
       " 'DETECTIVE',\n",
       " 'DUEL',\n",
       " 'Damn',\n",
       " 'Dawn',\n",
       " 'Days',\n",
       " 'De',\n",
       " 'Dead',\n",
       " 'Death',\n",
       " 'Delightful',\n",
       " 'Depend',\n",
       " 'Detective',\n",
       " 'Devil',\n",
       " 'Dickens',\n",
       " 'Did',\n",
       " 'Directly',\n",
       " 'Disguised',\n",
       " 'Disgusting',\n",
       " 'Do',\n",
       " 'Dock',\n",
       " 'Doctor',\n",
       " 'Does',\n",
       " 'Don',\n",
       " 'Dosition',\n",
       " 'Dover',\n",
       " 'Down',\n",
       " 'Dr',\n",
       " 'Dressed',\n",
       " 'Ducroix',\n",
       " 'Dunciad',\n",
       " 'Dunedin',\n",
       " 'Dynamite',\n",
       " 'Dynamiter',\n",
       " 'Dynamiters',\n",
       " 'EARTH',\n",
       " 'EXPLAINS',\n",
       " 'EXPOSURE',\n",
       " 'Each',\n",
       " 'Earl',\n",
       " 'Early',\n",
       " 'East',\n",
       " 'Eden',\n",
       " 'Edgware',\n",
       " 'Edmund',\n",
       " 'Egyptian',\n",
       " 'Eh',\n",
       " 'Either',\n",
       " 'Elizabethan',\n",
       " 'Embankment',\n",
       " 'Emperors',\n",
       " 'Empire',\n",
       " 'End',\n",
       " 'Energy',\n",
       " 'Engage',\n",
       " 'England',\n",
       " 'English',\n",
       " 'Erie',\n",
       " 'Et',\n",
       " 'Europe',\n",
       " 'European',\n",
       " 'Eustache',\n",
       " 'Even',\n",
       " 'Ever',\n",
       " 'Every',\n",
       " 'Everyone',\n",
       " 'Everything',\n",
       " 'Evidently',\n",
       " 'Exactly',\n",
       " 'Excuse',\n",
       " 'Exhibition',\n",
       " 'Extraordinary',\n",
       " 'FEAR',\n",
       " 'FEAST',\n",
       " 'FRIEND',\n",
       " 'Family',\n",
       " 'Far',\n",
       " 'Father',\n",
       " 'February',\n",
       " 'Fight',\n",
       " 'Finally',\n",
       " 'Finish',\n",
       " 'First',\n",
       " 'Fleet',\n",
       " 'Fly',\n",
       " 'Fools',\n",
       " 'For',\n",
       " 'Foremost',\n",
       " 'Four',\n",
       " 'France',\n",
       " 'French',\n",
       " 'Frenchman',\n",
       " 'Frenchmen',\n",
       " 'Friday',\n",
       " 'From',\n",
       " 'Funny',\n",
       " 'G',\n",
       " 'GABRIEL',\n",
       " 'Gabriel',\n",
       " 'Garden',\n",
       " 'Gardens',\n",
       " 'Gemini',\n",
       " 'Gendarmerie',\n",
       " 'General',\n",
       " 'Genesis',\n",
       " 'Gentleman',\n",
       " 'Gentlemen',\n",
       " 'George',\n",
       " 'German',\n",
       " 'Germany',\n",
       " 'Get',\n",
       " 'Getting',\n",
       " 'Give',\n",
       " 'Given',\n",
       " 'Glumpe',\n",
       " 'Go',\n",
       " 'God',\n",
       " 'Godforsaken',\n",
       " 'Gogol',\n",
       " 'Going',\n",
       " 'Good',\n",
       " 'Got',\n",
       " 'Government',\n",
       " 'Governments',\n",
       " 'Great',\n",
       " 'Greek',\n",
       " 'Green',\n",
       " 'Gregory',\n",
       " 'Grey',\n",
       " 'Grub',\n",
       " 'Guinea',\n",
       " 'Had',\n",
       " 'Hairy',\n",
       " 'Half',\n",
       " 'Hall',\n",
       " 'Hanwell',\n",
       " 'Harrow',\n",
       " 'Hartle',\n",
       " 'Has',\n",
       " 'Hatch',\n",
       " 'Have',\n",
       " 'Haven',\n",
       " 'Having',\n",
       " 'He',\n",
       " 'Healy',\n",
       " 'Heavy',\n",
       " 'Hell',\n",
       " 'Hence',\n",
       " 'Here',\n",
       " 'Herod',\n",
       " 'High',\n",
       " 'Hill',\n",
       " 'Him',\n",
       " 'His',\n",
       " 'Hitherto',\n",
       " 'Hold',\n",
       " 'Holiday',\n",
       " 'Homeric',\n",
       " 'Honesty',\n",
       " 'Honour',\n",
       " 'Hoping',\n",
       " 'Horatius',\n",
       " 'Horrible',\n",
       " 'Horses',\n",
       " 'How',\n",
       " 'However',\n",
       " 'Humanitarian',\n",
       " 'Humanity',\n",
       " 'Hurt',\n",
       " 'I',\n",
       " 'II',\n",
       " 'III',\n",
       " 'IN',\n",
       " 'IV',\n",
       " 'IX',\n",
       " 'Idiots',\n",
       " 'If',\n",
       " 'Impressionism',\n",
       " 'In',\n",
       " 'Indeed',\n",
       " 'India',\n",
       " 'Inside',\n",
       " 'Inspector',\n",
       " 'Insulted',\n",
       " 'Into',\n",
       " 'Ireland',\n",
       " 'Is',\n",
       " 'It',\n",
       " 'Its',\n",
       " 'Jabberwock',\n",
       " 'Jack',\n",
       " 'Jacobins',\n",
       " 'Jericho',\n",
       " 'Jerusalem',\n",
       " 'Jew',\n",
       " 'Jewels',\n",
       " 'Join',\n",
       " 'Joseph',\n",
       " 'Judas',\n",
       " 'Just',\n",
       " 'K',\n",
       " 'Keep',\n",
       " 'Kensington',\n",
       " 'Kill',\n",
       " 'King',\n",
       " 'LITTLE',\n",
       " 'Lancy',\n",
       " 'Lane',\n",
       " 'Last',\n",
       " 'Law',\n",
       " 'Le',\n",
       " 'Leave',\n",
       " 'Left',\n",
       " 'Legion',\n",
       " 'Leicester',\n",
       " 'Let',\n",
       " 'Life',\n",
       " 'Light',\n",
       " 'Like',\n",
       " 'Lion',\n",
       " 'Listen',\n",
       " 'Little',\n",
       " 'Lo',\n",
       " 'London',\n",
       " 'Look',\n",
       " 'Lord',\n",
       " 'Lucian',\n",
       " 'Ludgate',\n",
       " 'Lush',\n",
       " 'Lust',\n",
       " 'Lytton',\n",
       " 'MAN',\n",
       " 'Macon',\n",
       " 'Man',\n",
       " 'Mansoul',\n",
       " 'Many',\n",
       " 'Marat',\n",
       " 'Marquis',\n",
       " 'Martin',\n",
       " 'May',\n",
       " 'Mayor',\n",
       " 'Mean',\n",
       " 'Meanwhile',\n",
       " 'Mediterranean',\n",
       " 'Memnon',\n",
       " 'Men',\n",
       " 'Mental',\n",
       " 'Mere',\n",
       " 'Middle',\n",
       " 'Might',\n",
       " 'Millionaires',\n",
       " 'Milton',\n",
       " 'Mind',\n",
       " 'Miss',\n",
       " 'Moderate',\n",
       " 'Mohammedan',\n",
       " 'Monday',\n",
       " 'Monsieur',\n",
       " 'Montaigne',\n",
       " 'Moorish',\n",
       " 'More',\n",
       " 'Most',\n",
       " 'Mr',\n",
       " 'Much',\n",
       " 'Murderers',\n",
       " 'Musee',\n",
       " 'Museum',\n",
       " 'Must',\n",
       " 'My',\n",
       " 'NEXT',\n",
       " 'Naples',\n",
       " 'Napoleon',\n",
       " 'Naturally',\n",
       " 'Nature',\n",
       " 'Need',\n",
       " 'Nevertheless',\n",
       " 'New',\n",
       " 'Next',\n",
       " 'Nietzsche',\n",
       " 'Nihilist',\n",
       " 'No',\n",
       " 'Nobody',\n",
       " 'Nonconformists',\n",
       " 'Nonsence',\n",
       " 'Nonsense',\n",
       " 'Nor',\n",
       " 'Norman',\n",
       " 'North',\n",
       " 'Nose',\n",
       " 'Not',\n",
       " 'Nothing',\n",
       " 'Now',\n",
       " 'OF',\n",
       " 'Of',\n",
       " 'Oh',\n",
       " 'On',\n",
       " 'Once',\n",
       " 'One',\n",
       " 'Only',\n",
       " 'Or',\n",
       " 'Ordinarily',\n",
       " 'Originally',\n",
       " 'Our',\n",
       " 'Over',\n",
       " 'PARK',\n",
       " 'PHILOSOPHERS',\n",
       " 'POETS',\n",
       " 'POLICE',\n",
       " 'PRESIDENT',\n",
       " 'PROFESSOR',\n",
       " 'PURSUIT',\n",
       " 'Paddington',\n",
       " 'Pagens',\n",
       " 'Pan',\n",
       " 'Panic',\n",
       " 'Pantheist',\n",
       " 'Paradise',\n",
       " 'Paris',\n",
       " 'Park',\n",
       " 'Parkers',\n",
       " 'Partly',\n",
       " 'Pathetic',\n",
       " 'Paul',\n",
       " 'Paumanok',\n",
       " 'Peabody',\n",
       " 'Perfectly',\n",
       " 'Perhaps',\n",
       " 'Perjury',\n",
       " 'Permit',\n",
       " 'Persian',\n",
       " 'Peste',\n",
       " 'Piccadilly',\n",
       " 'Pinckwerts',\n",
       " 'Place',\n",
       " 'Please',\n",
       " 'Poe',\n",
       " 'Poland',\n",
       " 'Pole',\n",
       " 'Police',\n",
       " 'Polish',\n",
       " 'Pommery',\n",
       " 'Pope',\n",
       " 'Pray',\n",
       " 'Prepare',\n",
       " 'President',\n",
       " 'Prey',\n",
       " 'Priests',\n",
       " 'Professor',\n",
       " 'Project',\n",
       " 'Proverb',\n",
       " 'Pull',\n",
       " 'Puritan',\n",
       " 'Put',\n",
       " 'Queen',\n",
       " 'Quite',\n",
       " 'Railway',\n",
       " 'Raphaelite',\n",
       " 'Ratcliffe',\n",
       " 'Really',\n",
       " 'Red',\n",
       " 'Refreshments',\n",
       " 'Rembrandt',\n",
       " 'Renaissance',\n",
       " 'Renard',\n",
       " 'Republic',\n",
       " 'Resuming',\n",
       " 'Revolt',\n",
       " 'Revolution',\n",
       " 'Right',\n",
       " 'Rights',\n",
       " 'Road',\n",
       " 'Roared',\n",
       " 'Robespierre',\n",
       " 'Roland',\n",
       " 'Roman',\n",
       " 'Romans',\n",
       " 'Rosamond',\n",
       " 'Round',\n",
       " 'Russia',\n",
       " 'Russian',\n",
       " 'Rustic',\n",
       " 'SAFFRON',\n",
       " 'SECRET',\n",
       " 'SIT',\n",
       " 'SIX',\n",
       " 'SNOWDROP',\n",
       " 'SPECTACLES',\n",
       " 'SUCH',\n",
       " 'SYME',\n",
       " 'Sabbatarian',\n",
       " 'Sabbath',\n",
       " 'Saffron',\n",
       " 'Saint',\n",
       " 'Samoa',\n",
       " 'Saracenic',\n",
       " 'Satan',\n",
       " 'Satanic',\n",
       " 'Saturday',\n",
       " 'Saumur',\n",
       " 'Save',\n",
       " 'Savoy',\n",
       " 'Scarcely',\n",
       " 'School',\n",
       " 'Schools',\n",
       " 'Science',\n",
       " 'Scotch',\n",
       " 'Scotland',\n",
       " 'Secret',\n",
       " 'Secretary',\n",
       " 'Seeking',\n",
       " 'Serious',\n",
       " 'Service',\n",
       " 'Seven',\n",
       " 'Shall',\n",
       " 'Shame',\n",
       " 'She',\n",
       " 'Shops',\n",
       " 'Show',\n",
       " 'Sicily',\n",
       " 'Since',\n",
       " 'Sir',\n",
       " 'Skye',\n",
       " 'Slav',\n",
       " 'Sloane',\n",
       " 'Sloper',\n",
       " 'Snow',\n",
       " 'Snowdrop',\n",
       " 'So',\n",
       " 'Soho',\n",
       " 'Soleil',\n",
       " 'Some',\n",
       " 'Something',\n",
       " 'Sometimes',\n",
       " 'Somewhat',\n",
       " 'Somewhere',\n",
       " 'Soon',\n",
       " 'South',\n",
       " 'Southend',\n",
       " 'Spanish',\n",
       " 'Sporting',\n",
       " 'Square',\n",
       " 'St',\n",
       " 'Stare',\n",
       " 'State',\n",
       " 'Still',\n",
       " 'Stop',\n",
       " 'Strangers',\n",
       " 'Strasbourg',\n",
       " 'Street',\n",
       " 'Strike',\n",
       " 'Such',\n",
       " 'Suddenly',\n",
       " 'Suffice',\n",
       " 'Sunday',\n",
       " 'Superbly',\n",
       " 'Superstition',\n",
       " 'Suppose',\n",
       " 'Supreme',\n",
       " 'Surely',\n",
       " 'Surrey',\n",
       " 'Sussex',\n",
       " 'Swiftly',\n",
       " 'Swords',\n",
       " 'Syme',\n",
       " 'Symes',\n",
       " 'TALE',\n",
       " 'THE',\n",
       " 'THURSDAY',\n",
       " 'TWO',\n",
       " 'Take',\n",
       " 'Taking',\n",
       " 'Talk',\n",
       " 'Tall',\n",
       " 'Telephone',\n",
       " 'Tell',\n",
       " 'Ten',\n",
       " 'Thames',\n",
       " 'Thank',\n",
       " 'That',\n",
       " 'The',\n",
       " 'Their',\n",
       " 'Then',\n",
       " 'Theoretically',\n",
       " 'There',\n",
       " 'Therefore',\n",
       " 'These',\n",
       " 'They',\n",
       " 'Thieves',\n",
       " 'Thing',\n",
       " 'Things',\n",
       " 'This',\n",
       " 'Those',\n",
       " 'Though',\n",
       " 'Three',\n",
       " 'Through',\n",
       " 'Throughout',\n",
       " 'Thursday',\n",
       " 'Thursdays',\n",
       " 'Thus',\n",
       " 'Thy',\n",
       " 'Tim',\n",
       " 'Timbuctoo',\n",
       " 'Time',\n",
       " 'Times',\n",
       " 'To',\n",
       " 'Too',\n",
       " 'Tower',\n",
       " 'Traffic',\n",
       " 'Tree',\n",
       " 'Truth',\n",
       " 'Try',\n",
       " 'Tuesday',\n",
       " 'Tupper',\n",
       " 'Turning',\n",
       " 'Tusitala',\n",
       " 'Twenty',\n",
       " 'Twice',\n",
       " 'Two',\n",
       " 'UNACCOUNTABLE',\n",
       " 'URGING',\n",
       " 'Under',\n",
       " 'Underground',\n",
       " 'Unless',\n",
       " 'Up',\n",
       " 'Upon',\n",
       " 'Us',\n",
       " 'Utterly',\n",
       " 'V',\n",
       " 'VI',\n",
       " 'VII',\n",
       " 'VIII',\n",
       " 'Vampire',\n",
       " 'Ven',\n",
       " 'Very',\n",
       " 'Victoria',\n",
       " 'Virtue',\n",
       " 'Vulgar',\n",
       " 'WAS',\n",
       " 'WHEN',\n",
       " 'WHO',\n",
       " 'WORMS',\n",
       " 'Wagner',\n",
       " 'Wake',\n",
       " 'Walking',\n",
       " 'Was',\n",
       " 'Wasn',\n",
       " 'We',\n",
       " 'Weak',\n",
       " 'Wednesday',\n",
       " 'Well',\n",
       " 'West',\n",
       " 'Westminster',\n",
       " 'What',\n",
       " 'Whatever',\n",
       " 'Wheel',\n",
       " 'When',\n",
       " 'Whenever',\n",
       " 'Where',\n",
       " 'Whether',\n",
       " 'Which',\n",
       " 'While',\n",
       " 'Whistler',\n",
       " 'Who',\n",
       " 'Whom',\n",
       " 'Why',\n",
       " 'Wilks',\n",
       " 'Will',\n",
       " 'Wishing',\n",
       " 'With',\n",
       " 'Witherspoon',\n",
       " 'Without',\n",
       " 'Wonderland',\n",
       " 'Worms',\n",
       " 'Would',\n",
       " 'Wrong',\n",
       " 'Wrongs',\n",
       " 'X',\n",
       " 'XI',\n",
       " 'XII',\n",
       " 'XIII',\n",
       " 'XIV',\n",
       " 'XV',\n",
       " 'Yard',\n",
       " 'Yea',\n",
       " 'Yes',\n",
       " 'Yet',\n",
       " 'You',\n",
       " 'Young',\n",
       " 'Your',\n",
       " 'Zoo',\n",
       " 'Zoological',\n",
       " 'Zso',\n",
       " 'Zumpt',\n",
       " '[',\n",
       " ']',\n",
       " 'a',\n",
       " 'abandoned',\n",
       " 'abandonment',\n",
       " 'aberrations',\n",
       " 'abiding',\n",
       " 'able',\n",
       " 'abnegations',\n",
       " 'abnormal',\n",
       " 'abnormally',\n",
       " 'abolish',\n",
       " 'abolished',\n",
       " 'abolishes',\n",
       " 'about',\n",
       " 'above',\n",
       " 'abrupt',\n",
       " 'abruptly',\n",
       " 'abruptness',\n",
       " 'absence',\n",
       " 'absent',\n",
       " 'absently',\n",
       " 'absentminded',\n",
       " 'absinth',\n",
       " 'absolute',\n",
       " 'absolutely',\n",
       " 'abstinence',\n",
       " 'abstract',\n",
       " 'abstractedly',\n",
       " 'abstraction',\n",
       " 'absurd',\n",
       " 'absurdity',\n",
       " 'abused',\n",
       " 'abyss',\n",
       " 'abysses',\n",
       " 'accent',\n",
       " 'accept',\n",
       " 'acceptance',\n",
       " 'accepted',\n",
       " 'accident',\n",
       " 'accidental',\n",
       " 'accidentally',\n",
       " 'accidents',\n",
       " 'acclaim',\n",
       " 'accordingly',\n",
       " 'accuracy',\n",
       " 'accursed',\n",
       " 'accuse',\n",
       " 'accused',\n",
       " 'accuser',\n",
       " 'accuses',\n",
       " 'acknowledged',\n",
       " 'acquaintance',\n",
       " 'acquainted',\n",
       " 'across',\n",
       " 'act',\n",
       " 'acted',\n",
       " 'acting',\n",
       " 'action',\n",
       " 'actions',\n",
       " 'actor',\n",
       " 'acts',\n",
       " 'actual',\n",
       " 'actuality',\n",
       " 'actually',\n",
       " 'acumen',\n",
       " 'adamantine',\n",
       " 'added',\n",
       " 'addition',\n",
       " 'additional',\n",
       " 'address',\n",
       " 'addressed',\n",
       " 'addresses',\n",
       " 'addressing',\n",
       " 'admirable',\n",
       " 'admiration',\n",
       " 'admire',\n",
       " 'admired',\n",
       " 'admirers',\n",
       " 'admit',\n",
       " 'adopt',\n",
       " 'adopted',\n",
       " 'adorable',\n",
       " 'advance',\n",
       " 'advancing',\n",
       " 'advantage',\n",
       " 'advantages',\n",
       " 'adventure',\n",
       " 'adventurer',\n",
       " 'adventurers',\n",
       " 'adventures',\n",
       " 'advertisement',\n",
       " 'advice',\n",
       " 'advise',\n",
       " 'advised',\n",
       " 'aesthete',\n",
       " 'affably',\n",
       " 'affair',\n",
       " 'affected',\n",
       " 'afford',\n",
       " 'afraid',\n",
       " 'after',\n",
       " 'afterglow',\n",
       " 'afternoon',\n",
       " 'afterwards',\n",
       " 'again',\n",
       " 'against',\n",
       " 'age',\n",
       " 'aged',\n",
       " 'agent',\n",
       " 'aggressive',\n",
       " 'ago',\n",
       " 'agonies',\n",
       " 'agonised',\n",
       " 'agony',\n",
       " 'agree',\n",
       " 'agreed',\n",
       " 'ahead',\n",
       " 'ailment',\n",
       " 'aim',\n",
       " 'aimed',\n",
       " 'aimless',\n",
       " 'aims',\n",
       " 'air',\n",
       " 'airless',\n",
       " 'airs',\n",
       " 'airy',\n",
       " 'alarm',\n",
       " 'alarmed',\n",
       " 'ale',\n",
       " 'alien',\n",
       " 'aliens',\n",
       " 'alighted',\n",
       " 'alive',\n",
       " 'all',\n",
       " 'alleged',\n",
       " 'allegiance',\n",
       " 'allegoric',\n",
       " 'allegory',\n",
       " 'alley',\n",
       " 'allies',\n",
       " 'allowed',\n",
       " 'allusion',\n",
       " 'allusions',\n",
       " 'ally',\n",
       " 'almond',\n",
       " 'almost',\n",
       " 'alone',\n",
       " 'along',\n",
       " 'alongside',\n",
       " 'aloud',\n",
       " 'alphabet',\n",
       " 'alphabetical',\n",
       " 'already',\n",
       " 'also',\n",
       " 'alter',\n",
       " 'alteration',\n",
       " 'altered',\n",
       " 'alternate',\n",
       " 'alternative',\n",
       " 'although',\n",
       " 'altogether',\n",
       " 'always',\n",
       " 'am',\n",
       " 'amain',\n",
       " 'amazement',\n",
       " 'ambassador',\n",
       " 'ambassadors',\n",
       " 'ambiguous',\n",
       " 'ambling',\n",
       " ...]"
      ]
     },
     "execution_count": 55,
     "metadata": {},
     "output_type": "execute_result"
    }
   ],
   "source": [
    "sorted(set(text9))"
   ]
  },
  {
   "cell_type": "code",
   "execution_count": 56,
   "metadata": {},
   "outputs": [
    {
     "data": {
      "text/plain": [
       "6807"
      ]
     },
     "execution_count": 56,
     "metadata": {},
     "output_type": "execute_result"
    }
   ],
   "source": [
    "len(set(text9))"
   ]
  },
  {
   "cell_type": "code",
   "execution_count": 59,
   "metadata": {},
   "outputs": [
    {
     "data": {
      "text/plain": [
       "0.0983485761345412"
      ]
     },
     "execution_count": 59,
     "metadata": {},
     "output_type": "execute_result"
    }
   ],
   "source": [
    "len(set(text9)) / len(text9)"
   ]
  },
  {
   "cell_type": "code",
   "execution_count": 63,
   "metadata": {},
   "outputs": [
    {
     "data": {
      "text/plain": [
       "5"
      ]
     },
     "execution_count": 63,
     "metadata": {},
     "output_type": "execute_result"
    }
   ],
   "source": [
    "text9.count(\"lived\")"
   ]
  },
  {
   "cell_type": "code",
   "execution_count": 65,
   "metadata": {},
   "outputs": [
    {
     "data": {
      "text/plain": [
       "1.261941790713175"
      ]
     },
     "execution_count": 65,
     "metadata": {},
     "output_type": "execute_result"
    }
   ],
   "source": [
    "100*text5.count('a') / len(text5)"
   ]
  },
  {
   "cell_type": "code",
   "execution_count": 66,
   "metadata": {},
   "outputs": [],
   "source": [
    "def lexical_diversity(text):\n",
    "    return len(set(text)) / len(text)"
   ]
  },
  {
   "cell_type": "code",
   "execution_count": 67,
   "metadata": {},
   "outputs": [],
   "source": [
    "def percentage(count, total):\n",
    "    return 100*count/total"
   ]
  },
  {
   "cell_type": "code",
   "execution_count": 78,
   "metadata": {
    "scrolled": true
   },
   "outputs": [
    {
     "data": {
      "text/plain": [
       "0.07406285585022564"
      ]
     },
     "execution_count": 78,
     "metadata": {},
     "output_type": "execute_result"
    }
   ],
   "source": [
    "lexical_diversity(text1)"
   ]
  },
  {
   "cell_type": "code",
   "execution_count": 79,
   "metadata": {},
   "outputs": [
    {
     "data": {
      "text/plain": [
       "0.04826383002768831"
      ]
     },
     "execution_count": 79,
     "metadata": {},
     "output_type": "execute_result"
    }
   ],
   "source": [
    "lexical_diversity(text2)"
   ]
  },
  {
   "cell_type": "code",
   "execution_count": 80,
   "metadata": {},
   "outputs": [
    {
     "data": {
      "text/plain": [
       "0.06230453042623537"
      ]
     },
     "execution_count": 80,
     "metadata": {},
     "output_type": "execute_result"
    }
   ],
   "source": [
    "lexical_diversity(text3)"
   ]
  },
  {
   "cell_type": "code",
   "execution_count": 81,
   "metadata": {},
   "outputs": [
    {
     "data": {
      "text/plain": [
       "0.06692970116993173"
      ]
     },
     "execution_count": 81,
     "metadata": {},
     "output_type": "execute_result"
    }
   ],
   "source": [
    "lexical_diversity(text4)"
   ]
  },
  {
   "cell_type": "code",
   "execution_count": 82,
   "metadata": {},
   "outputs": [
    {
     "data": {
      "text/plain": [
       "0.13477005109975562"
      ]
     },
     "execution_count": 82,
     "metadata": {},
     "output_type": "execute_result"
    }
   ],
   "source": [
    "lexical_diversity(text5)"
   ]
  },
  {
   "cell_type": "code",
   "execution_count": 83,
   "metadata": {},
   "outputs": [
    {
     "data": {
      "text/plain": [
       "0.1276595744680851"
      ]
     },
     "execution_count": 83,
     "metadata": {},
     "output_type": "execute_result"
    }
   ],
   "source": [
    "lexical_diversity(text6)"
   ]
  },
  {
   "cell_type": "code",
   "execution_count": 84,
   "metadata": {},
   "outputs": [
    {
     "data": {
      "text/plain": [
       "0.12324685128531129"
      ]
     },
     "execution_count": 84,
     "metadata": {},
     "output_type": "execute_result"
    }
   ],
   "source": [
    "lexical_diversity(text7)"
   ]
  },
  {
   "cell_type": "code",
   "execution_count": 85,
   "metadata": {},
   "outputs": [
    {
     "data": {
      "text/plain": [
       "0.22765564002465585"
      ]
     },
     "execution_count": 85,
     "metadata": {},
     "output_type": "execute_result"
    }
   ],
   "source": [
    "lexical_diversity(text8)"
   ]
  },
  {
   "cell_type": "code",
   "execution_count": 86,
   "metadata": {},
   "outputs": [
    {
     "data": {
      "text/plain": [
       "0.0983485761345412"
      ]
     },
     "execution_count": 86,
     "metadata": {},
     "output_type": "execute_result"
    }
   ],
   "source": [
    "lexical_diversity(text9)"
   ]
  },
  {
   "cell_type": "code",
   "execution_count": 103,
   "metadata": {},
   "outputs": [
    {
     "data": {
      "text/plain": [
       "88.88888888888889"
      ]
     },
     "execution_count": 103,
     "metadata": {},
     "output_type": "execute_result"
    }
   ],
   "source": [
    "percentage(8,9)"
   ]
  },
  {
   "cell_type": "code",
   "execution_count": 104,
   "metadata": {},
   "outputs": [
    {
     "data": {
      "text/plain": [
       "1.068419971234847"
      ]
     },
     "execution_count": 104,
     "metadata": {},
     "output_type": "execute_result"
    }
   ],
   "source": [
    "percentage(text8.count('a'),len(text8))"
   ]
  },
  {
   "cell_type": "code",
   "execution_count": 105,
   "metadata": {},
   "outputs": [],
   "source": [
    "sent1=['call','me','Ishmael']"
   ]
  },
  {
   "cell_type": "code",
   "execution_count": 106,
   "metadata": {},
   "outputs": [
    {
     "data": {
      "text/plain": [
       "['call', 'me', 'Ishmael']"
      ]
     },
     "execution_count": 106,
     "metadata": {},
     "output_type": "execute_result"
    }
   ],
   "source": [
    "sent1"
   ]
  },
  {
   "cell_type": "code",
   "execution_count": 107,
   "metadata": {},
   "outputs": [
    {
     "data": {
      "text/plain": [
       "3"
      ]
     },
     "execution_count": 107,
     "metadata": {},
     "output_type": "execute_result"
    }
   ],
   "source": [
    "len(sent1)"
   ]
  },
  {
   "cell_type": "code",
   "execution_count": 108,
   "metadata": {},
   "outputs": [
    {
     "data": {
      "text/plain": [
       "1.0"
      ]
     },
     "execution_count": 108,
     "metadata": {},
     "output_type": "execute_result"
    }
   ],
   "source": [
    "lexical_diversity(sent1)"
   ]
  },
  {
   "cell_type": "code",
   "execution_count": 109,
   "metadata": {},
   "outputs": [
    {
     "data": {
      "text/plain": [
       "['The',\n",
       " 'family',\n",
       " 'of',\n",
       " 'Dashwood',\n",
       " 'had',\n",
       " 'long',\n",
       " 'been',\n",
       " 'settled',\n",
       " 'in',\n",
       " 'Sussex',\n",
       " '.']"
      ]
     },
     "execution_count": 109,
     "metadata": {},
     "output_type": "execute_result"
    }
   ],
   "source": [
    "sent2"
   ]
  },
  {
   "cell_type": "code",
   "execution_count": 110,
   "metadata": {},
   "outputs": [
    {
     "data": {
      "text/plain": [
       "['In',\n",
       " 'the',\n",
       " 'beginning',\n",
       " 'God',\n",
       " 'created',\n",
       " 'the',\n",
       " 'heaven',\n",
       " 'and',\n",
       " 'the',\n",
       " 'earth',\n",
       " '.']"
      ]
     },
     "execution_count": 110,
     "metadata": {},
     "output_type": "execute_result"
    }
   ],
   "source": [
    "sent3"
   ]
  },
  {
   "cell_type": "code",
   "execution_count": 111,
   "metadata": {},
   "outputs": [
    {
     "data": {
      "text/plain": [
       "['Monty', 'Python', 'and', 'the', 'holy', 'Grail']"
      ]
     },
     "execution_count": 111,
     "metadata": {},
     "output_type": "execute_result"
    }
   ],
   "source": [
    "['Monty','Python'] + ['and','the','holy','Grail']"
   ]
  },
  {
   "cell_type": "code",
   "execution_count": 112,
   "metadata": {},
   "outputs": [
    {
     "data": {
      "text/plain": [
       "['Fellow',\n",
       " '-',\n",
       " 'Citizens',\n",
       " 'of',\n",
       " 'the',\n",
       " 'Senate',\n",
       " 'and',\n",
       " 'of',\n",
       " 'the',\n",
       " 'House',\n",
       " 'of',\n",
       " 'Representatives',\n",
       " ':',\n",
       " 'call',\n",
       " 'me',\n",
       " 'Ishmael']"
      ]
     },
     "execution_count": 112,
     "metadata": {},
     "output_type": "execute_result"
    }
   ],
   "source": [
    "sent4 + sent1"
   ]
  },
  {
   "cell_type": "code",
   "execution_count": 113,
   "metadata": {},
   "outputs": [],
   "source": [
    "sent1.append('Some')"
   ]
  },
  {
   "cell_type": "code",
   "execution_count": 114,
   "metadata": {},
   "outputs": [
    {
     "data": {
      "text/plain": [
       "['call', 'me', 'Ishmael', 'Some']"
      ]
     },
     "execution_count": 114,
     "metadata": {},
     "output_type": "execute_result"
    }
   ],
   "source": [
    "sent1"
   ]
  },
  {
   "cell_type": "code",
   "execution_count": 115,
   "metadata": {},
   "outputs": [
    {
     "data": {
      "text/plain": [
       "'retreat'"
      ]
     },
     "execution_count": 115,
     "metadata": {},
     "output_type": "execute_result"
    }
   ],
   "source": [
    "text4[108]"
   ]
  },
  {
   "cell_type": "code",
   "execution_count": 123,
   "metadata": {},
   "outputs": [
    {
     "data": {
      "text/plain": [
       "'silent'"
      ]
     },
     "execution_count": 123,
     "metadata": {},
     "output_type": "execute_result"
    }
   ],
   "source": [
    "text9[243]"
   ]
  },
  {
   "cell_type": "code",
   "execution_count": 125,
   "metadata": {},
   "outputs": [
    {
     "data": {
      "text/plain": [
       "['need',\n",
       " 'to',\n",
       " 'see',\n",
       " 'that',\n",
       " ',',\n",
       " 'U23',\n",
       " 'You',\n",
       " 'liked',\n",
       " 'it',\n",
       " '?',\n",
       " 'geeZe',\n",
       " 'a',\n",
       " 'U28',\n",
       " 'sammich',\n",
       " 'with',\n",
       " 'one',\n",
       " 'limp',\n",
       " 'piece',\n",
       " 'of',\n",
       " 'bread',\n",
       " 'i',\n",
       " 'wanna',\n",
       " 'rent',\n",
       " 'over',\n",
       " 'the',\n",
       " 'hedge',\n",
       " 'lol',\n",
       " 'i',\n",
       " 'liked',\n",
       " 'it',\n",
       " '..',\n",
       " 'soo',\n",
       " 'funny',\n",
       " 'thats',\n",
       " 'officer',\n",
       " 'limp',\n",
       " 'piece',\n",
       " 'of',\n",
       " 'bread',\n",
       " 'U28',\n",
       " 'Have',\n",
       " 'you',\n",
       " 'seen',\n",
       " 'U30',\n",
       " ',',\n",
       " 'U23',\n",
       " '?',\n",
       " 'lol',\n",
       " 'U47',\n",
       " 'whats',\n",
       " 'up',\n",
       " 'everybody',\n",
       " '?????',\n",
       " 'whoopZ',\n",
       " 'sowwy',\n",
       " 'lol',\n",
       " 'yes',\n",
       " 'U35',\n",
       " '..',\n",
       " 'at',\n",
       " 'the',\n",
       " 'drive',\n",
       " 'in',\n",
       " 'is',\n",
       " 'U30',\n",
       " 'any',\n",
       " 'good',\n",
       " '?????',\n",
       " '.',\n",
       " 'ACTION',\n",
       " 'loves',\n",
       " 'men',\n",
       " 'in',\n",
       " 'uniform',\n",
       " '.',\n",
       " 'yes',\n",
       " 'U59',\n",
       " 'it',\n",
       " 'is']"
      ]
     },
     "execution_count": 125,
     "metadata": {},
     "output_type": "execute_result"
    }
   ],
   "source": [
    "text5[12321:12400]"
   ]
  },
  {
   "cell_type": "code",
   "execution_count": 126,
   "metadata": {},
   "outputs": [],
   "source": [
    "sent=['word1','word2','word3','word4','word5','word6','word7','word8','word9']"
   ]
  },
  {
   "cell_type": "code",
   "execution_count": 127,
   "metadata": {},
   "outputs": [
    {
     "data": {
      "text/plain": [
       "'word1'"
      ]
     },
     "execution_count": 127,
     "metadata": {},
     "output_type": "execute_result"
    }
   ],
   "source": [
    "sent[0]"
   ]
  },
  {
   "cell_type": "code",
   "execution_count": 128,
   "metadata": {},
   "outputs": [],
   "source": [
    "my_sent=['Bravely','bold','Sir','Robin',',','rode','forth','from','camelot']"
   ]
  },
  {
   "cell_type": "code",
   "execution_count": 133,
   "metadata": {},
   "outputs": [],
   "source": [
    "adverb_phrase=my_sent[0:10]"
   ]
  },
  {
   "cell_type": "code",
   "execution_count": 134,
   "metadata": {},
   "outputs": [
    {
     "data": {
      "text/plain": [
       "['Bravely', 'bold', 'Sir', 'Robin', ',', 'rode', 'forth', 'from', 'camelot']"
      ]
     },
     "execution_count": 134,
     "metadata": {},
     "output_type": "execute_result"
    }
   ],
   "source": [
    "adverb_phrase"
   ]
  },
  {
   "cell_type": "code",
   "execution_count": 135,
   "metadata": {},
   "outputs": [],
   "source": [
    "saying = ['After','all','is','said','and','done','more','is','said','than','done']"
   ]
  },
  {
   "cell_type": "code",
   "execution_count": 136,
   "metadata": {},
   "outputs": [],
   "source": [
    "token=set(saying)"
   ]
  },
  {
   "cell_type": "code",
   "execution_count": 138,
   "metadata": {},
   "outputs": [],
   "source": [
    "token=sorted(token)"
   ]
  },
  {
   "cell_type": "code",
   "execution_count": 142,
   "metadata": {},
   "outputs": [
    {
     "data": {
      "text/plain": [
       "['After', 'all', 'and', 'done', 'is', 'more', 'said', 'than']"
      ]
     },
     "execution_count": 142,
     "metadata": {},
     "output_type": "execute_result"
    }
   ],
   "source": [
    "#Find the Reason WHY !!!!\n",
    "\n",
    "token[-9:]"
   ]
  },
  {
   "cell_type": "code",
   "execution_count": 143,
   "metadata": {},
   "outputs": [],
   "source": [
    "fdist1=FreqDist(text1)"
   ]
  },
  {
   "cell_type": "code",
   "execution_count": 144,
   "metadata": {},
   "outputs": [
    {
     "name": "stdout",
     "output_type": "stream",
     "text": [
      "<FreqDist with 19317 samples and 260819 outcomes>\n"
     ]
    }
   ],
   "source": [
    "print(fdist1)"
   ]
  },
  {
   "cell_type": "code",
   "execution_count": 145,
   "metadata": {},
   "outputs": [
    {
     "data": {
      "text/plain": [
       "[(',', 18713),\n",
       " ('the', 13721),\n",
       " ('.', 6862),\n",
       " ('of', 6536),\n",
       " ('and', 6024),\n",
       " ('a', 4569),\n",
       " ('to', 4542),\n",
       " (';', 4072),\n",
       " ('in', 3916),\n",
       " ('that', 2982),\n",
       " (\"'\", 2684),\n",
       " ('-', 2552),\n",
       " ('his', 2459),\n",
       " ('it', 2209),\n",
       " ('I', 2124),\n",
       " ('s', 1739),\n",
       " ('is', 1695),\n",
       " ('he', 1661),\n",
       " ('with', 1659),\n",
       " ('was', 1632),\n",
       " ('as', 1620),\n",
       " ('\"', 1478),\n",
       " ('all', 1462),\n",
       " ('for', 1414),\n",
       " ('this', 1280),\n",
       " ('!', 1269),\n",
       " ('at', 1231),\n",
       " ('by', 1137),\n",
       " ('but', 1113),\n",
       " ('not', 1103),\n",
       " ('--', 1070),\n",
       " ('him', 1058),\n",
       " ('from', 1052),\n",
       " ('be', 1030),\n",
       " ('on', 1005),\n",
       " ('so', 918),\n",
       " ('whale', 906),\n",
       " ('one', 889),\n",
       " ('you', 841),\n",
       " ('had', 767),\n",
       " ('have', 760),\n",
       " ('there', 715),\n",
       " ('But', 705),\n",
       " ('or', 697),\n",
       " ('were', 680),\n",
       " ('now', 646),\n",
       " ('which', 640),\n",
       " ('?', 637),\n",
       " ('me', 627),\n",
       " ('like', 624)]"
      ]
     },
     "execution_count": 145,
     "metadata": {},
     "output_type": "execute_result"
    }
   ],
   "source": [
    "fdist1.most_common(50)"
   ]
  },
  {
   "cell_type": "code",
   "execution_count": 147,
   "metadata": {},
   "outputs": [
    {
     "data": {
      "text/plain": [
       "906"
      ]
     },
     "execution_count": 147,
     "metadata": {},
     "output_type": "execute_result"
    }
   ],
   "source": [
    "fdist1['whale']"
   ]
  },
  {
   "cell_type": "code",
   "execution_count": 148,
   "metadata": {},
   "outputs": [],
   "source": [
    " V=set(text1)"
   ]
  },
  {
   "cell_type": "code",
   "execution_count": 149,
   "metadata": {},
   "outputs": [],
   "source": [
    "long_word=[w for w in V if len(w) > 15 ]"
   ]
  },
  {
   "cell_type": "code",
   "execution_count": 151,
   "metadata": {},
   "outputs": [
    {
     "data": {
      "text/plain": [
       "['CIRCUMNAVIGATION',\n",
       " 'Physiognomically',\n",
       " 'apprehensiveness',\n",
       " 'cannibalistically',\n",
       " 'characteristically',\n",
       " 'circumnavigating',\n",
       " 'circumnavigation',\n",
       " 'circumnavigations',\n",
       " 'comprehensiveness',\n",
       " 'hermaphroditical',\n",
       " 'indiscriminately',\n",
       " 'indispensableness',\n",
       " 'irresistibleness',\n",
       " 'physiognomically',\n",
       " 'preternaturalness',\n",
       " 'responsibilities',\n",
       " 'simultaneousness',\n",
       " 'subterraneousness',\n",
       " 'supernaturalness',\n",
       " 'superstitiousness',\n",
       " 'uncomfortableness',\n",
       " 'uncompromisedness',\n",
       " 'undiscriminating',\n",
       " 'uninterpenetratingly']"
      ]
     },
     "execution_count": 151,
     "metadata": {},
     "output_type": "execute_result"
    }
   ],
   "source": [
    "sorted(long_word)"
   ]
  },
  {
   "cell_type": "code",
   "execution_count": 152,
   "metadata": {},
   "outputs": [],
   "source": [
    "fdist5 = FreqDist(text5)"
   ]
  },
  {
   "cell_type": "code",
   "execution_count": 153,
   "metadata": {},
   "outputs": [
    {
     "data": {
      "text/plain": [
       "['#14-19teens',\n",
       " '#talkcity_adults',\n",
       " '((((((((((',\n",
       " '........',\n",
       " 'Question',\n",
       " 'actually',\n",
       " 'anything',\n",
       " 'computer',\n",
       " 'cute.-ass',\n",
       " 'everyone',\n",
       " 'football',\n",
       " 'innocent',\n",
       " 'listening',\n",
       " 'remember',\n",
       " 'seriously',\n",
       " 'something',\n",
       " 'together',\n",
       " 'tomorrow',\n",
       " 'watching']"
      ]
     },
     "execution_count": 153,
     "metadata": {},
     "output_type": "execute_result"
    }
   ],
   "source": [
    "sorted(w for w in set(text5) if len(w) > 7 and fdist5[w]>7)"
   ]
  },
  {
   "cell_type": "code",
   "execution_count": 158,
   "metadata": {},
   "outputs": [
    {
     "data": {
      "text/plain": [
       "[('more', 'is'), ('is', 'said'), ('said', 'than'), ('than', 'done')]"
      ]
     },
     "execution_count": 158,
     "metadata": {},
     "output_type": "execute_result"
    }
   ],
   "source": [
    "list(bigrams(['more','is','said','than','done']))"
   ]
  },
  {
   "cell_type": "code",
   "execution_count": 161,
   "metadata": {},
   "outputs": [
    {
     "name": "stdout",
     "output_type": "stream",
     "text": [
      "Sperm Whale; Moby Dick; White Whale; old man; Captain Ahab; sperm\n",
      "whale; Right Whale; Captain Peleg; New Bedford; Cape Horn; cried Ahab;\n",
      "years ago; lower jaw; never mind; Father Mapple; cried Stubb; chief\n",
      "mate; white whale; ivory leg; one hand\n"
     ]
    }
   ],
   "source": [
    "text1.collocations()"
   ]
  },
  {
   "cell_type": "code",
   "execution_count": 162,
   "metadata": {},
   "outputs": [
    {
     "name": "stdout",
     "output_type": "stream",
     "text": [
      "would like; medium build; social drinker; quiet nights; non smoker;\n",
      "long term; age open; Would like; easy going; financially secure; fun\n",
      "times; similar interests; Age open; weekends away; poss rship; well\n",
      "presented; never married; single mum; permanent relationship; slim\n",
      "build\n"
     ]
    }
   ],
   "source": [
    "text8.collocations()"
   ]
  },
  {
   "cell_type": "code",
   "execution_count": 163,
   "metadata": {},
   "outputs": [
    {
     "data": {
      "text/plain": [
       "[1,\n",
       " 4,\n",
       " 4,\n",
       " 2,\n",
       " 6,\n",
       " 8,\n",
       " 4,\n",
       " 1,\n",
       " 9,\n",
       " 1,\n",
       " 1,\n",
       " 8,\n",
       " 2,\n",
       " 1,\n",
       " 4,\n",
       " 11,\n",
       " 5,\n",
       " 2,\n",
       " 1,\n",
       " 7,\n",
       " 6,\n",
       " 1,\n",
       " 3,\n",
       " 4,\n",
       " 5,\n",
       " 2,\n",
       " 10,\n",
       " 2,\n",
       " 4,\n",
       " 1,\n",
       " 5,\n",
       " 1,\n",
       " 4,\n",
       " 1,\n",
       " 3,\n",
       " 5,\n",
       " 1,\n",
       " 1,\n",
       " 3,\n",
       " 3,\n",
       " 3,\n",
       " 1,\n",
       " 2,\n",
       " 3,\n",
       " 4,\n",
       " 7,\n",
       " 3,\n",
       " 3,\n",
       " 8,\n",
       " 3,\n",
       " 8,\n",
       " 1,\n",
       " 4,\n",
       " 1,\n",
       " 5,\n",
       " 12,\n",
       " 1,\n",
       " 9,\n",
       " 11,\n",
       " 4,\n",
       " 3,\n",
       " 3,\n",
       " 3,\n",
       " 5,\n",
       " 2,\n",
       " 3,\n",
       " 3,\n",
       " 5,\n",
       " 7,\n",
       " 2,\n",
       " 3,\n",
       " 5,\n",
       " 1,\n",
       " 2,\n",
       " 5,\n",
       " 2,\n",
       " 4,\n",
       " 3,\n",
       " 3,\n",
       " 8,\n",
       " 1,\n",
       " 2,\n",
       " 7,\n",
       " 6,\n",
       " 8,\n",
       " 3,\n",
       " 2,\n",
       " 3,\n",
       " 9,\n",
       " 1,\n",
       " 1,\n",
       " 5,\n",
       " 3,\n",
       " 4,\n",
       " 2,\n",
       " 4,\n",
       " 2,\n",
       " 6,\n",
       " 6,\n",
       " 1,\n",
       " 3,\n",
       " 2,\n",
       " 5,\n",
       " 4,\n",
       " 2,\n",
       " 4,\n",
       " 4,\n",
       " 1,\n",
       " 5,\n",
       " 1,\n",
       " 4,\n",
       " 2,\n",
       " 2,\n",
       " 2,\n",
       " 6,\n",
       " 2,\n",
       " 3,\n",
       " 6,\n",
       " 7,\n",
       " 3,\n",
       " 1,\n",
       " 7,\n",
       " 9,\n",
       " 1,\n",
       " 3,\n",
       " 6,\n",
       " 1,\n",
       " 1,\n",
       " 5,\n",
       " 6,\n",
       " 5,\n",
       " 6,\n",
       " 3,\n",
       " 13,\n",
       " 2,\n",
       " 3,\n",
       " 4,\n",
       " 1,\n",
       " 3,\n",
       " 7,\n",
       " 4,\n",
       " 5,\n",
       " 2,\n",
       " 3,\n",
       " 4,\n",
       " 2,\n",
       " 2,\n",
       " 8,\n",
       " 1,\n",
       " 5,\n",
       " 1,\n",
       " 3,\n",
       " 2,\n",
       " 1,\n",
       " 3,\n",
       " 3,\n",
       " 1,\n",
       " 4,\n",
       " 1,\n",
       " 4,\n",
       " 6,\n",
       " 2,\n",
       " 5,\n",
       " 4,\n",
       " 9,\n",
       " 2,\n",
       " 7,\n",
       " 1,\n",
       " 3,\n",
       " 2,\n",
       " 3,\n",
       " 1,\n",
       " 5,\n",
       " 2,\n",
       " 6,\n",
       " 2,\n",
       " 7,\n",
       " 2,\n",
       " 2,\n",
       " 7,\n",
       " 1,\n",
       " 1,\n",
       " 10,\n",
       " 1,\n",
       " 5,\n",
       " 1,\n",
       " 3,\n",
       " 2,\n",
       " 2,\n",
       " 4,\n",
       " 11,\n",
       " 4,\n",
       " 3,\n",
       " 3,\n",
       " 1,\n",
       " 3,\n",
       " 3,\n",
       " 1,\n",
       " 6,\n",
       " 1,\n",
       " 1,\n",
       " 1,\n",
       " 1,\n",
       " 1,\n",
       " 4,\n",
       " 1,\n",
       " 3,\n",
       " 1,\n",
       " 2,\n",
       " 4,\n",
       " 1,\n",
       " 2,\n",
       " 6,\n",
       " 2,\n",
       " 2,\n",
       " 10,\n",
       " 1,\n",
       " 1,\n",
       " 10,\n",
       " 5,\n",
       " 1,\n",
       " 5,\n",
       " 1,\n",
       " 5,\n",
       " 1,\n",
       " 5,\n",
       " 1,\n",
       " 5,\n",
       " 1,\n",
       " 5,\n",
       " 1,\n",
       " 5,\n",
       " 1,\n",
       " 5,\n",
       " 1,\n",
       " 6,\n",
       " 1,\n",
       " 3,\n",
       " 1,\n",
       " 5,\n",
       " 1,\n",
       " 4,\n",
       " 1,\n",
       " 7,\n",
       " 1,\n",
       " 5,\n",
       " 1,\n",
       " 9,\n",
       " 1,\n",
       " 5,\n",
       " 1,\n",
       " 7,\n",
       " 1,\n",
       " 7,\n",
       " 1,\n",
       " 6,\n",
       " 1,\n",
       " 7,\n",
       " 1,\n",
       " 7,\n",
       " 1,\n",
       " 5,\n",
       " 1,\n",
       " 4,\n",
       " 1,\n",
       " 4,\n",
       " 1,\n",
       " 5,\n",
       " 1,\n",
       " 5,\n",
       " 1,\n",
       " 4,\n",
       " 1,\n",
       " 4,\n",
       " 1,\n",
       " 11,\n",
       " 1,\n",
       " 8,\n",
       " 1,\n",
       " 8,\n",
       " 2,\n",
       " 1,\n",
       " 3,\n",
       " 1,\n",
       " 3,\n",
       " 1,\n",
       " 9,\n",
       " 2,\n",
       " 2,\n",
       " 4,\n",
       " 2,\n",
       " 4,\n",
       " 4,\n",
       " 4,\n",
       " 4,\n",
       " 11,\n",
       " 8,\n",
       " 3,\n",
       " 4,\n",
       " 1,\n",
       " 4,\n",
       " 2,\n",
       " 1,\n",
       " 4,\n",
       " 5,\n",
       " 2,\n",
       " 1,\n",
       " 3,\n",
       " 1,\n",
       " 3,\n",
       " 7,\n",
       " 2,\n",
       " 4,\n",
       " 4,\n",
       " 7,\n",
       " 3,\n",
       " 4,\n",
       " 8,\n",
       " 3,\n",
       " 6,\n",
       " 1,\n",
       " 6,\n",
       " 2,\n",
       " 3,\n",
       " 5,\n",
       " 1,\n",
       " 7,\n",
       " 2,\n",
       " 8,\n",
       " 6,\n",
       " 9,\n",
       " 2,\n",
       " 6,\n",
       " 2,\n",
       " 5,\n",
       " 7,\n",
       " 4,\n",
       " 2,\n",
       " 3,\n",
       " 4,\n",
       " 10,\n",
       " 1,\n",
       " 6,\n",
       " 2,\n",
       " 7,\n",
       " 1,\n",
       " 9,\n",
       " 3,\n",
       " 4,\n",
       " 3,\n",
       " 1,\n",
       " 2,\n",
       " 5,\n",
       " 4,\n",
       " 2,\n",
       " 5,\n",
       " 1,\n",
       " 4,\n",
       " 3,\n",
       " 8,\n",
       " 1,\n",
       " 8,\n",
       " 5,\n",
       " 10,\n",
       " 1,\n",
       " 7,\n",
       " 9,\n",
       " 1,\n",
       " 2,\n",
       " 5,\n",
       " 8,\n",
       " 1,\n",
       " 3,\n",
       " 9,\n",
       " 6,\n",
       " 8,\n",
       " 1,\n",
       " 3,\n",
       " 4,\n",
       " 2,\n",
       " 1,\n",
       " 2,\n",
       " 8,\n",
       " 3,\n",
       " 7,\n",
       " 7,\n",
       " 9,\n",
       " 1,\n",
       " 2,\n",
       " 4,\n",
       " 2,\n",
       " 3,\n",
       " 5,\n",
       " 4,\n",
       " 9,\n",
       " 1,\n",
       " 5,\n",
       " 8,\n",
       " 3,\n",
       " 6,\n",
       " 8,\n",
       " 2,\n",
       " 12,\n",
       " 1,\n",
       " 2,\n",
       " 9,\n",
       " 1,\n",
       " 8,\n",
       " 4,\n",
       " 1,\n",
       " 1,\n",
       " 3,\n",
       " 4,\n",
       " 2,\n",
       " 4,\n",
       " 3,\n",
       " 4,\n",
       " 13,\n",
       " 4,\n",
       " 1,\n",
       " 7,\n",
       " 1,\n",
       " 7,\n",
       " 1,\n",
       " 3,\n",
       " 4,\n",
       " 2,\n",
       " 9,\n",
       " 1,\n",
       " 2,\n",
       " 4,\n",
       " 7,\n",
       " 3,\n",
       " 11,\n",
       " 1,\n",
       " 9,\n",
       " 3,\n",
       " 3,\n",
       " 1,\n",
       " 2,\n",
       " 4,\n",
       " 4,\n",
       " 4,\n",
       " 1,\n",
       " 4,\n",
       " 5,\n",
       " 2,\n",
       " 1,\n",
       " 3,\n",
       " 1,\n",
       " 3,\n",
       " 1,\n",
       " 5,\n",
       " 11,\n",
       " 1,\n",
       " 2,\n",
       " 1,\n",
       " 4,\n",
       " 9,\n",
       " 2,\n",
       " 4,\n",
       " 8,\n",
       " 1,\n",
       " 6,\n",
       " 5,\n",
       " 5,\n",
       " 2,\n",
       " 4,\n",
       " 2,\n",
       " 4,\n",
       " 5,\n",
       " 4,\n",
       " 4,\n",
       " 4,\n",
       " 1,\n",
       " 3,\n",
       " 3,\n",
       " 4,\n",
       " 4,\n",
       " 4,\n",
       " 6,\n",
       " 5,\n",
       " 2,\n",
       " 3,\n",
       " 4,\n",
       " 1,\n",
       " 6,\n",
       " 1,\n",
       " 3,\n",
       " 4,\n",
       " 4,\n",
       " 3,\n",
       " 9,\n",
       " 5,\n",
       " 2,\n",
       " 3,\n",
       " 1,\n",
       " 3,\n",
       " 4,\n",
       " 4,\n",
       " 1,\n",
       " 8,\n",
       " 1,\n",
       " 3,\n",
       " 1,\n",
       " 3,\n",
       " 4,\n",
       " 9,\n",
       " 4,\n",
       " 5,\n",
       " 1,\n",
       " 3,\n",
       " 3,\n",
       " 2,\n",
       " 4,\n",
       " 7,\n",
       " 1,\n",
       " 4,\n",
       " 4,\n",
       " 4,\n",
       " 3,\n",
       " 5,\n",
       " 7,\n",
       " 1,\n",
       " 3,\n",
       " 2,\n",
       " 3,\n",
       " 10,\n",
       " 10,\n",
       " 7,\n",
       " 2,\n",
       " 4,\n",
       " 2,\n",
       " 2,\n",
       " 1,\n",
       " 3,\n",
       " 1,\n",
       " 4,\n",
       " 1,\n",
       " 3,\n",
       " 2,\n",
       " 3,\n",
       " 4,\n",
       " 3,\n",
       " 4,\n",
       " 5,\n",
       " 2,\n",
       " 4,\n",
       " 2,\n",
       " 6,\n",
       " 3,\n",
       " 5,\n",
       " 1,\n",
       " 2,\n",
       " 2,\n",
       " 4,\n",
       " 3,\n",
       " 4,\n",
       " 5,\n",
       " 2,\n",
       " 3,\n",
       " 4,\n",
       " 2,\n",
       " 9,\n",
       " 1,\n",
       " 5,\n",
       " 4,\n",
       " 1,\n",
       " 5,\n",
       " 5,\n",
       " 3,\n",
       " 7,\n",
       " 5,\n",
       " 3,\n",
       " 3,\n",
       " 9,\n",
       " 3,\n",
       " 2,\n",
       " 1,\n",
       " 3,\n",
       " 4,\n",
       " 4,\n",
       " 4,\n",
       " 5,\n",
       " 3,\n",
       " 3,\n",
       " 5,\n",
       " 2,\n",
       " 3,\n",
       " 5,\n",
       " 1,\n",
       " 4,\n",
       " 4,\n",
       " 4,\n",
       " 6,\n",
       " 1,\n",
       " 3,\n",
       " 4,\n",
       " 7,\n",
       " 3,\n",
       " 4,\n",
       " 4,\n",
       " 6,\n",
       " 3,\n",
       " 8,\n",
       " 3,\n",
       " 3,\n",
       " 5,\n",
       " 1,\n",
       " 7,\n",
       " 7,\n",
       " 1,\n",
       " 3,\n",
       " 6,\n",
       " 8,\n",
       " 2,\n",
       " 4,\n",
       " 1,\n",
       " 8,\n",
       " 7,\n",
       " 1,\n",
       " 7,\n",
       " 1,\n",
       " 3,\n",
       " 7,\n",
       " 1,\n",
       " 7,\n",
       " 4,\n",
       " 6,\n",
       " 1,\n",
       " 4,\n",
       " 2,\n",
       " 6,\n",
       " 3,\n",
       " 10,\n",
       " 6,\n",
       " 8,\n",
       " 2,\n",
       " 5,\n",
       " 1,\n",
       " 2,\n",
       " 5,\n",
       " 6,\n",
       " 14,\n",
       " 7,\n",
       " 1,\n",
       " 8,\n",
       " 1,\n",
       " 1,\n",
       " 3,\n",
       " 3,\n",
       " 7,\n",
       " 5,\n",
       " 6,\n",
       " 2,\n",
       " 2,\n",
       " 7,\n",
       " 1,\n",
       " 1,\n",
       " 9,\n",
       " 6,\n",
       " 1,\n",
       " 4,\n",
       " 2,\n",
       " 5,\n",
       " 5,\n",
       " 3,\n",
       " 1,\n",
       " 3,\n",
       " 5,\n",
       " 5,\n",
       " 3,\n",
       " 4,\n",
       " 2,\n",
       " 2,\n",
       " 5,\n",
       " 2,\n",
       " 2,\n",
       " 3,\n",
       " 1,\n",
       " 1,\n",
       " 3,\n",
       " 3,\n",
       " 4,\n",
       " 3,\n",
       " 8,\n",
       " 1,\n",
       " 5,\n",
       " 4,\n",
       " 2,\n",
       " 7,\n",
       " 2,\n",
       " 5,\n",
       " 2,\n",
       " 2,\n",
       " 5,\n",
       " 1,\n",
       " 1,\n",
       " 5,\n",
       " 2,\n",
       " 3,\n",
       " 5,\n",
       " 1,\n",
       " 5,\n",
       " 2,\n",
       " 4,\n",
       " 9,\n",
       " 4,\n",
       " 4,\n",
       " 4,\n",
       " 4,\n",
       " 2,\n",
       " 4,\n",
       " 7,\n",
       " 2,\n",
       " 2,\n",
       " 6,\n",
       " 1,\n",
       " 1,\n",
       " 2,\n",
       " 4,\n",
       " 3,\n",
       " 1,\n",
       " 3,\n",
       " 4,\n",
       " 4,\n",
       " 3,\n",
       " 4,\n",
       " 1,\n",
       " 3,\n",
       " 5,\n",
       " 1,\n",
       " 3,\n",
       " 6,\n",
       " 5,\n",
       " 1,\n",
       " 5,\n",
       " 6,\n",
       " 9,\n",
       " 3,\n",
       " 8,\n",
       " 7,\n",
       " 1,\n",
       " 4,\n",
       " 9,\n",
       " 4,\n",
       " 7,\n",
       " 7,\n",
       " 1,\n",
       " 3,\n",
       " 2,\n",
       " 5,\n",
       " 4,\n",
       " 3,\n",
       " 6,\n",
       " 4,\n",
       " 2,\n",
       " 2,\n",
       " 3,\n",
       " 3,\n",
       " 2,\n",
       " 2,\n",
       " 6,\n",
       " 1,\n",
       " 3,\n",
       " 4,\n",
       " 5,\n",
       " 6,\n",
       " 7,\n",
       " 6,\n",
       " 6,\n",
       " 3,\n",
       " 5,\n",
       " 2,\n",
       " 4,\n",
       " 7,\n",
       " 1,\n",
       " 1,\n",
       " 5,\n",
       " 1,\n",
       " 2,\n",
       " 2,\n",
       " 5,\n",
       " 1,\n",
       " 4,\n",
       " 1,\n",
       " 2,\n",
       " 5,\n",
       " 1,\n",
       " 4,\n",
       " 2,\n",
       " 4,\n",
       " 3,\n",
       " 13,\n",
       " 4,\n",
       " 4,\n",
       " 5,\n",
       " 7,\n",
       " 2,\n",
       " 3,\n",
       " 1,\n",
       " 3,\n",
       " 9,\n",
       " 2,\n",
       " 3,\n",
       " 10,\n",
       " 4,\n",
       " 2,\n",
       " 3,\n",
       " 6,\n",
       " 2,\n",
       " 2,\n",
       " 7,\n",
       " 1,\n",
       " 1,\n",
       " 8,\n",
       " 1,\n",
       " 1,\n",
       " 6,\n",
       " 1,\n",
       " 1,\n",
       " 3,\n",
       " 6,\n",
       " 3,\n",
       " 8,\n",
       " 3,\n",
       " 4,\n",
       " 3,\n",
       " 3,\n",
       " 7,\n",
       " 6,\n",
       " 4,\n",
       " 3,\n",
       " 1,\n",
       " 5,\n",
       " 5,\n",
       " 3,\n",
       " 6,\n",
       " 3,\n",
       " 11,\n",
       " 6,\n",
       " 7,\n",
       " 1,\n",
       " 4,\n",
       " 2,\n",
       " 2,\n",
       " 4,\n",
       " 2,\n",
       " 6,\n",
       " 2,\n",
       " 4,\n",
       " 5,\n",
       " 2,\n",
       " 6,\n",
       " 2,\n",
       " 4,\n",
       " 2,\n",
       " 2,\n",
       " 7,\n",
       " 1,\n",
       " 1,\n",
       " 5,\n",
       " 1,\n",
       " 1,\n",
       " 8,\n",
       " 3,\n",
       " 2,\n",
       " 9,\n",
       " 3,\n",
       " 4,\n",
       " 2,\n",
       " 3,\n",
       " 3,\n",
       " 1,\n",
       " 4,\n",
       " 5,\n",
       " 7,\n",
       " 1,\n",
       " 5,\n",
       " 4,\n",
       " 6,\n",
       " 3,\n",
       " 5,\n",
       " 8,\n",
       " 2,\n",
       " 3,\n",
       " 3,\n",
       " 1,\n",
       " 8,\n",
       " 1,\n",
       " 5,\n",
       " 3,\n",
       " 6,\n",
       " 1,\n",
       " 3,\n",
       " 3,\n",
       " 2,\n",
       " 1,\n",
       " 4,\n",
       " 9,\n",
       " 4,\n",
       " 1,\n",
       " 3,\n",
       " 4,\n",
       " 4,\n",
       " 7,\n",
       " 2,\n",
       " 1,\n",
       " 4,\n",
       " 1,\n",
       " 7,\n",
       " 1,\n",
       " 7,\n",
       " 3,\n",
       " 5,\n",
       " 2,\n",
       " 3,\n",
       " 5,\n",
       " 1,\n",
       " 3,\n",
       " 7,\n",
       " 3,\n",
       " 3,\n",
       " 6,\n",
       " 3,\n",
       " 4,\n",
       " 1,\n",
       " 4,\n",
       " 2,\n",
       " 2,\n",
       " 5,\n",
       " 1,\n",
       " 1,\n",
       " 6,\n",
       " 1,\n",
       " 1,\n",
       " 3,\n",
       " 4,\n",
       " 7,\n",
       " 2,\n",
       " 1,\n",
       " 2,\n",
       " 7,\n",
       " 4,\n",
       " 7,\n",
       " 4,\n",
       " 4,\n",
       " 1,\n",
       " 4,\n",
       " 2,\n",
       " 8,\n",
       " 5,\n",
       " 1,\n",
       " 6,\n",
       " 1,\n",
       " 5,\n",
       " 3,\n",
       " 5,\n",
       " 2,\n",
       " 4,\n",
       " 5,\n",
       " 5,\n",
       " 3,\n",
       " 5,\n",
       " 5,\n",
       " 1,\n",
       " 2,\n",
       " 5,\n",
       " 2,\n",
       " 7,\n",
       " 4,\n",
       " 2,\n",
       " 3,\n",
       " 4,\n",
       " 1,\n",
       " 3,\n",
       " 3,\n",
       " 4,\n",
       " 6,\n",
       " 4,\n",
       " 7,\n",
       " 2,\n",
       " 3,\n",
       " 3,\n",
       " 7,\n",
       " 1,\n",
       " 2,\n",
       " 5,\n",
       " 4,\n",
       " 4,\n",
       " 5,\n",
       " 1,\n",
       " 5,\n",
       " 1,\n",
       " 4,\n",
       " 5,\n",
       " 5,\n",
       " 4,\n",
       " 1,\n",
       " 2,\n",
       " ...]"
      ]
     },
     "execution_count": 163,
     "metadata": {},
     "output_type": "execute_result"
    }
   ],
   "source": [
    "[len(w) for w in text1]"
   ]
  },
  {
   "cell_type": "code",
   "execution_count": 164,
   "metadata": {},
   "outputs": [],
   "source": [
    "fdist=FreqDist(len(w) for w in text1)"
   ]
  },
  {
   "cell_type": "code",
   "execution_count": 165,
   "metadata": {},
   "outputs": [
    {
     "name": "stdout",
     "output_type": "stream",
     "text": [
      "<FreqDist with 19 samples and 260819 outcomes>\n"
     ]
    }
   ],
   "source": [
    "print(fdist)"
   ]
  },
  {
   "cell_type": "code",
   "execution_count": 173,
   "metadata": {},
   "outputs": [
    {
     "data": {
      "text/plain": [
       "3"
      ]
     },
     "execution_count": 173,
     "metadata": {},
     "output_type": "execute_result"
    }
   ],
   "source": [
    "fdist.most_common()\n",
    "fdist.max()"
   ]
  },
  {
   "cell_type": "code",
   "execution_count": 171,
   "metadata": {},
   "outputs": [
    {
     "data": {
      "text/plain": [
       "38513"
      ]
     },
     "execution_count": 171,
     "metadata": {},
     "output_type": "execute_result"
    }
   ],
   "source": [
    "fdist[2]"
   ]
  },
  {
   "cell_type": "code",
   "execution_count": null,
   "metadata": {},
   "outputs": [],
   "source": []
  }
 ],
 "metadata": {
  "kernelspec": {
   "display_name": "Python 3",
   "language": "python",
   "name": "python3"
  },
  "language_info": {
   "codemirror_mode": {
    "name": "ipython",
    "version": 3
   },
   "file_extension": ".py",
   "mimetype": "text/x-python",
   "name": "python",
   "nbconvert_exporter": "python",
   "pygments_lexer": "ipython3",
   "version": "3.6.4"
  }
 },
 "nbformat": 4,
 "nbformat_minor": 2
}
